{
 "nbformat": 4,
 "nbformat_minor": 0,
 "metadata": {
  "colab": {
   "provenance": []
  },
  "kernelspec": {
   "name": "python3",
   "display_name": "Python 3"
  },
  "language_info": {
   "name": "python"
  }
 },
 "cells": [
  {
   "cell_type": "markdown",
   "metadata": {
    "id": "ELX4AubVFDQn",
    "pycharm": {
     "name": "#%% md\n"
    }
   },
   "source": [
    "# Cómo usar PySAT y no morir en el intento\n",
    "\n",
    "PySAT es una herramienta en Python que nos permite estudiar la satisfacibilidad de un problema. \n",
    "\n",
    "## Qué es CNF y porqué necesitamos entenderlo\n",
    "\n",
    "PySAT solo recibe cosas en forma normal conjuntiva, es decir, expresiones de la forma:\n",
    "$$(a \\lor b) \\land (c \\lor d) \\land ...$$\n",
    "\n",
    "Donde cada parentesis se define como una $\\textbf{clausula}$, la disyunción de $\\textbf{literales}$, estas se unen entre si por medio de una conjunción.\n",
    "\n",
    "Recuerden esta terminologia.\n",
    "\n",
    "## Instalar PySAT\n",
    "\n",
    "Para instalarlo, sigiendo las instrucciones disponibles en el [README](https://github.com/pysathq/pysat), primero debemos ejecutar los siguientes comandos:"
   ]
  },
  {
   "cell_type": "code",
   "metadata": {
    "id": "TA4ugXtiSBVh",
    "colab": {
     "base_uri": "https://localhost:8080/"
    },
    "outputId": "c419f9c5-38f2-4b61-9729-61bfe3b2cd35",
    "pycharm": {
     "name": "#%%\n"
    }
   },
   "source": [
    "!pip install python-sat[pblib,aiger]"
   ],
   "execution_count": null,
   "outputs": [
    {
     "output_type": "stream",
     "name": "stdout",
     "text": [
      "Looking in indexes: https://pypi.org/simple, https://us-python.pkg.dev/colab-wheels/public/simple/\n",
      "Collecting python-sat[aiger,pblib]\n",
      "  Downloading python_sat-0.1.7.dev21-cp38-cp38-manylinux2010_x86_64.whl (1.8 MB)\n",
      "\u001B[K     |████████████████████████████████| 1.8 MB 8.8 MB/s \n",
      "\u001B[?25hRequirement already satisfied: six in /usr/local/lib/python3.8/dist-packages (from python-sat[aiger,pblib]) (1.15.0)\n",
      "Collecting pypblib>=0.0.3\n",
      "  Downloading pypblib-0.0.4-cp38-cp38-manylinux2014_x86_64.whl (3.4 MB)\n",
      "\u001B[K     |████████████████████████████████| 3.4 MB 56.5 MB/s \n",
      "\u001B[?25hCollecting py-aiger-cnf>=2.0.0\n",
      "  Downloading py_aiger_cnf-5.0.7-py3-none-any.whl (5.1 kB)\n",
      "Collecting py-aiger<7.0.0,>=6.0.0\n",
      "  Downloading py_aiger-6.1.26-py3-none-any.whl (18 kB)\n",
      "Collecting funcy<2.0,>=1.12\n",
      "  Downloading funcy-1.17-py2.py3-none-any.whl (33 kB)\n",
      "Collecting bidict<0.23.0,>=0.22.0\n",
      "  Downloading bidict-0.22.0-py3-none-any.whl (36 kB)\n",
      "Collecting toposort<2.0,>=1.5\n",
      "  Downloading toposort-1.7-py2.py3-none-any.whl (9.0 kB)\n",
      "Requirement already satisfied: attrs<23,>=22 in /usr/local/lib/python3.8/dist-packages (from py-aiger<7.0.0,>=6.0.0->py-aiger-cnf>=2.0.0->python-sat[aiger,pblib]) (22.1.0)\n",
      "Requirement already satisfied: pyrsistent<0.20.0,>=0.19.0 in /usr/local/lib/python3.8/dist-packages (from py-aiger<7.0.0,>=6.0.0->py-aiger-cnf>=2.0.0->python-sat[aiger,pblib]) (0.19.2)\n",
      "Requirement already satisfied: sortedcontainers<3.0.0,>=2.3.0 in /usr/local/lib/python3.8/dist-packages (from py-aiger<7.0.0,>=6.0.0->py-aiger-cnf>=2.0.0->python-sat[aiger,pblib]) (2.4.0)\n",
      "Installing collected packages: toposort, funcy, bidict, py-aiger, python-sat, pypblib, py-aiger-cnf\n",
      "Successfully installed bidict-0.22.0 funcy-1.17 py-aiger-6.1.26 py-aiger-cnf-5.0.7 pypblib-0.0.4 python-sat-0.1.7.dev21 toposort-1.7\n"
     ]
    }
   ]
  },
  {
   "cell_type": "code",
   "metadata": {
    "id": "yTJ-GXiySEjY",
    "colab": {
     "base_uri": "https://localhost:8080/"
    },
    "outputId": "6bde3bbe-c564-44b5-d712-c35939ff9ab4",
    "pycharm": {
     "name": "#%%\n"
    }
   },
   "source": [
    "!pip install python-sat"
   ],
   "execution_count": null,
   "outputs": [
    {
     "output_type": "stream",
     "name": "stdout",
     "text": [
      "Looking in indexes: https://pypi.org/simple, https://us-python.pkg.dev/colab-wheels/public/simple/\n",
      "Requirement already satisfied: python-sat in /usr/local/lib/python3.8/dist-packages (0.1.7.dev21)\n",
      "Requirement already satisfied: six in /usr/local/lib/python3.8/dist-packages (from python-sat) (1.15.0)\n"
     ]
    }
   ]
  },
  {
   "cell_type": "code",
   "metadata": {
    "id": "i3XjuGKnSMm-",
    "colab": {
     "base_uri": "https://localhost:8080/"
    },
    "outputId": "732f0988-b6ae-4d14-e6a2-69f58d19c0d2",
    "pycharm": {
     "name": "#%%\n"
    }
   },
   "source": [
    "!pip install -U python-sat"
   ],
   "execution_count": null,
   "outputs": [
    {
     "output_type": "stream",
     "name": "stdout",
     "text": [
      "Looking in indexes: https://pypi.org/simple, https://us-python.pkg.dev/colab-wheels/public/simple/\n",
      "Requirement already satisfied: python-sat in /usr/local/lib/python3.8/dist-packages (0.1.7.dev21)\n",
      "Requirement already satisfied: six in /usr/local/lib/python3.8/dist-packages (from python-sat) (1.15.0)\n"
     ]
    }
   ]
  },
  {
   "cell_type": "markdown",
   "metadata": {
    "id": "75sorXGVSaxR",
    "pycharm": {
     "name": "#%% md\n"
    }
   },
   "source": [
    "## Cómo entregar el input\n",
    "\n",
    "Recordemos que PySAT solo recibe CNF, entonces debemos ingresar el input siguiendo esa logica.\n",
    "\n",
    "Por ejemplo, tengo los literales $\\{x_1, x_2, x_3, x_4\\}$ y quiero estudiar la satisfacibilidad de:\n",
    "$$(x_1 \\lor x_2) \\land (x_3 \\lor x_4 \\lor \\neg x_1) \\land \\neg x_2$$\n",
    "\n",
    "Para PySAT, $x_i$ se representa con $i$ y $\\neg x_i$ con $-i$, de esta forma, definir la formula completa decimos:"
   ]
  },
  {
   "cell_type": "code",
   "metadata": {
    "id": "dK_sxz5pUjnU",
    "pycharm": {
     "name": "#%%\n"
    }
   },
   "source": [
    "# Importamos el solver a usar\n",
    "from pysat.solvers import Glucose3\n"
   ],
   "execution_count": null,
   "outputs": []
  },
  {
   "cell_type": "code",
   "metadata": {
    "id": "yhwSDnZiUnm0",
    "pycharm": {
     "name": "#%%\n"
    }
   },
   "source": [
    "# Instanciamos el solver\n",
    "s = Glucose3()"
   ],
   "execution_count": null,
   "outputs": []
  },
  {
   "cell_type": "code",
   "metadata": {
    "id": "ctifqRCXUvgR",
    "pycharm": {
     "name": "#%%\n"
    }
   },
   "source": [
    "# Añadiendo clausulas sin significado\n",
    "s.add_clause([1, 2])\n",
    "\n",
    "s.add_clause([3, -4])"
   ],
   "execution_count": null,
   "outputs": []
  },
  {
   "cell_type": "code",
   "source": [
    "diccionario = {1: (1, 1, 'n'), 2: (1, 2, 'n'), 3: (1, 3, 'n'),\n",
    "               4: (2, 1, 'n'), 5: (2, 2, 'n'), 6: (2, 3, 'n'),\n",
    "               7: (1, 1, 'b'), 8: (1, 2, 'b'), 9: (1, 3, 'b'),\n",
    "               10: (2, 1, 'b'), 11: (2, 2, 'b'), 12: (2, 3, 'b')}\n",
    "print(diccionario)"
   ],
   "metadata": {
    "colab": {
     "base_uri": "https://localhost:8080/"
    },
    "id": "8j0X49mI7_Zq",
    "outputId": "a2adaa03-b978-4af9-ba0e-05964c7b4710",
    "pycharm": {
     "name": "#%%\n"
    }
   },
   "execution_count": null,
   "outputs": [
    {
     "output_type": "stream",
     "name": "stdout",
     "text": [
      "{1: (1, 1, 'n'), 2: (1, 2, 'n'), 3: (1, 3, 'n'), 4: (2, 1, 'n'), 5: (2, 2, 'n'), 6: (2, 3, 'n'), 7: (3, 1, 'n'), 8: (3, 2, 'n'), 9: (3, 3, 'n')}\n"
     ]
    }
   ]
  },
  {
   "cell_type": "code",
   "source": [
    "# Finalmente se resuelve el problema\n",
    "esSatisfacible = s.solve()\n",
    "\n",
    "# \n",
    "valuacionQueSirve = s.get_model()\n",
    "print(valuacionQueSirve)"
   ],
   "metadata": {
    "id": "7aY69y0e7eP1",
    "colab": {
     "base_uri": "https://localhost:8080/"
    },
    "outputId": "1a1ad777-ad03-443a-e21b-2730d92bdae0",
    "pycharm": {
     "name": "#%%\n"
    }
   },
   "execution_count": null,
   "outputs": [
    {
     "output_type": "stream",
     "name": "stdout",
     "text": [
      "[1, -2, -3, -4]\n"
     ]
    }
   ]
  },
  {
   "cell_type": "code",
   "source": [
    "from pysat.solvers import Glucose3\n",
    "\n",
    "\n",
    "# Funcion auxiliar para manejar diccionarios\n",
    "def findKeyByValue(dicc, value):\n",
    "    return list(dicc.keys())[list(dicc.values()).index(value)]\n",
    "\n",
    "\n",
    "def crearDiccionarioYPrimeraRestriccion(NP, s):\n",
    "    diccionario = {}\n",
    "    id = 0\n",
    "    for i in range(len(NP)):  # Los subproblemas\n",
    "        p_i = i + 1\n",
    "        clausula = []\n",
    "        for nodo in NP[i]:  # Los nodos\n",
    "            id += 1\n",
    "            diccionario[id] = (p_i, nodo, \"n\")  # Subproblema, nodo, es sobre nodos\n",
    "            clausula.append(id)  # El indice de cada elemento representa el nodo en el que se debe\n",
    "        # print(clausula)\n",
    "        s.add_clause(clausula)  # Clausula 1\n",
    "\n",
    "    return diccionario\n",
    "\n",
    "\n",
    "def crearSegundaRestriccion(diccionario, NP, s):\n",
    "    for i in range(len(NP)):\n",
    "        p_i = i + 1\n",
    "        for nodo_gorro in NP[i]:\n",
    "            key_j = findKeyByValue(diccionario, (p_i, nodo_gorro, \"n\"))\n",
    "            for key in diccionario:\n",
    "                if nodo_gorro != diccionario[key][1] and p_i == diccionario[key][0] and diccionario[key][2] == \"n\":  # n_i != n_igorro\n",
    "                    clausula2 = [-key_j, -key]\n",
    "                    # print(clausula2)\n",
    "                    s.add_clause(clausula2)\n",
    "\n",
    "\n",
    "\"\"\"\n",
    "AQUI EMPIEZA LA PARTE DE LOS BLOQUES\n",
    "\"\"\"\n",
    "\n",
    "\n",
    "def crearTerceraRestriccion(diccionario, P, B, s):\n",
    "    id = len(diccionario)\n",
    "    for p in P:\n",
    "        clausula3 = []\n",
    "        for bloque in B:\n",
    "            id += 1\n",
    "            clausula3.append(id)\n",
    "            diccionario[id] = (p, bloque, \"b\")  # p,b\n",
    "        # print(clausula3)\n",
    "        s.add_clause(clausula3)\n",
    "\n",
    "\n",
    "def crearCuartaRestriccion(diccionario, P, B, s):\n",
    "    for p in P:\n",
    "        for bloque in B:\n",
    "            key_j = findKeyByValue(diccionario, (p, bloque, \"b\"))\n",
    "            for key in diccionario:\n",
    "                if bloque != diccionario[key][1] and p == diccionario[key][0] and \"b\" == diccionario[key][2]:\n",
    "                    clausula4 = [-key_j, -key]\n",
    "                    s.add_clause(clausula4)\n",
    "\n",
    "\n",
    "def crearQuintaRestriccion(diccionario, P, B, Rp, R, s):\n",
    "    Pr = calcularPr(Rp, R)\n",
    "    for p in P:\n",
    "        for b in B:\n",
    "            key_j = findKeyByValue(diccionario, (p, b, \"b\"))\n",
    "            recursosDeP = Rp[p - 1]\n",
    "            for recurso in recursosDeP:\n",
    "                subproblemasDelRecurso = Pr[recurso - 1]\n",
    "                for pgorro in subproblemasDelRecurso:\n",
    "                    if p != pgorro:\n",
    "                        key = findKeyByValue(diccionario, (pgorro, b, \"b\"))\n",
    "                        clausula5 = [-key_j, -key]\n",
    "                        # print(clausula5)\n",
    "                        s.add_clause(clausula5)\n",
    "\n",
    "\n",
    "def crearSextaRestriccion(diccionario, P, NP, B, s):\n",
    "    for p in P:\n",
    "        N_p = NP[p - 1]\n",
    "        for nodo in N_p:\n",
    "            for b in B:\n",
    "                key_beta = findKeyByValue(diccionario, (p, b, \"b\"))\n",
    "                key_alpha = findKeyByValue(diccionario, (p, nodo, \"n\"))\n",
    "                for pgorro in P:\n",
    "                    if p != pgorro and (nodo in NP[pgorro - 1]):\n",
    "                        key_betagorro = findKeyByValue(diccionario, (pgorro, b, \"b\"))\n",
    "                        key_alphagorro = findKeyByValue(diccionario, (pgorro, nodo, \"n\"))\n",
    "                        s.add_clause([-key_beta, -key_betagorro, -key_alpha, -key_alpha])\n",
    "\n",
    "\n",
    "def calcularPr(Rp, R):\n",
    "    P_r = []\n",
    "    for r in R:\n",
    "        fila = []\n",
    "        for i in range(len(Rp)):\n",
    "            if r in Rp[i]:\n",
    "                fila.append(i + 1)\n",
    "        P_r.append(fila)\n",
    "    return P_r\n",
    "\n",
    "print(calcularPr([[1,2,3]], [1, 2, 3]))\n",
    "\n",
    "def generarModelo(P, NP, RP, R, tinit, tfinal, ttotal, t):\n",
    "    bloques = []\n",
    "    s = Glucose3()\n",
    "    cantidadDeBloques = (ttotal - tinit - tfinal) // t\n",
    "    for i in range(cantidadDeBloques):\n",
    "        bloques.append(i + 1)\n",
    "    diccionarioGeneral = crearDiccionarioYPrimeraRestriccion(NP, s)\n",
    "    crearSegundaRestriccion(diccionarioGeneral, NP, s)\n",
    "    crearTerceraRestriccion(diccionarioGeneral, P, bloques, s)\n",
    "    crearCuartaRestriccion(diccionarioGeneral, P, bloques, s)\n",
    "    crearQuintaRestriccion(diccionarioGeneral, P, bloques, RP, R, s)\n",
    "    crearSextaRestriccion(diccionarioGeneral, P, NP, bloques, s)\n",
    "\n",
    "    print(\"diccionario para los nodos:\", diccionarioGeneral)\n",
    "\n",
    "    esSatisfacible = s.solve()\n",
    "\n",
    "    print(\"La formula definida es satisfacible? {}\".format(esSatisfacible))\n",
    "\n",
    "    valuacionQueSirve = s.get_model()\n",
    "    if esSatisfacible:\n",
    "        print(\"La asignacion de subproblemas debe ser la siguiente: \")\n",
    "        for valuacion in valuacionQueSirve:\n",
    "            if valuacion > 0:\n",
    "                tuplaPB = diccionarioGeneral[valuacion]\n",
    "\n",
    "                if tuplaPB[2] == \"b\":\n",
    "                    print(\"el subproblema \" + str(tuplaPB[0]) + \" debe realizarse en el bloque \" + str(tuplaPB[1]))\n",
    "                elif tuplaPB[2] == \"n\":\n",
    "                    print(\"el subproblema \" + str(tuplaPB[0]) + \" debe realizarse en el nodo \" + str(tuplaPB[1]))\n",
    "    s.delete()\n",
    "\n",
    "\"\"\"\n",
    "    PARTE C, INSTANCIAS SATISFACTIBLES Y NO SATISFACTIBLES\n",
    "\"\"\"\n",
    "\n",
    "# SET 1\n",
    "P1 = [1, 2, 3, 4, 5, 6, 7, 8, 9, 10]\n",
    "N1 = [1, 2, 3, 4, 5, 6, 7, 8, 9, 10]\n",
    "\n",
    "N_p1 = [[1, 2, 3],  # Subproblema 1 -> 1, 2, 3\n",
    "        [1, 2, 3],  # Subproblema 2 -> Puede ser resuelto en el nodo 1 2 o 3\n",
    "        [1, 2, 3],\n",
    "        [4, 5, 6],\n",
    "        [4, 5, 6],\n",
    "        [4, 5, 6],\n",
    "        [7],  # Subproblema 7\n",
    "        [7],  # Subproblema 8\n",
    "        [9],\n",
    "        [1, 2, 3, 4, 5, 6, 7, 8, 9, 10]]\n",
    "\n",
    "R1 = [1, 2, 3, 4, 5, 6, 7, 8, 9, 10]\n",
    "\n",
    "R_p1 = [[1, 2],  # Recursos de subproblema 1 R_p1\n",
    "        [3, 4],\n",
    "        [5, 6],\n",
    "        [7, 8],\n",
    "        [9, 10],\n",
    "        [1, 2],\n",
    "        [4],\n",
    "        [5],\n",
    "        [10],\n",
    "        [10]]\n",
    "t_total1 = 1200\n",
    "t1 = 100\n",
    "t_init1 = 100\n",
    "t_final1 = 100\n",
    "\n",
    "# SET 2\n",
    "N_p2 = [[1],  # Solo tenemos 1 maquina y esta resuelve todos los subproblemas\n",
    "        [1],\n",
    "        [1],\n",
    "        [1],\n",
    "        [1],\n",
    "        [1],\n",
    "        [1],\n",
    "        [1],\n",
    "        [1],\n",
    "        [1]]\n",
    "N2 = [1]\n",
    "generarModelo(P1, N_p1, R_p1, R1, t_init1, t_final1, t_total1, t1)\n",
    "# generarModelo(P1, N_p2, R_p1, R1, t_init1, t_final1, t_total1, t1)\n",
    "\n",
    "\"\"\"\n",
    "    INSTANCIAS INSATISFACTIBLES \n",
    "\"\"\"\n",
    "# No se pueden resolver todos los subproblemas\n",
    "N_p3 = [[1, 2, 3],\n",
    "        [1, 2, 3],\n",
    "        [1, 2, 3],\n",
    "        [4, 5, 6],\n",
    "        [4, 5, 6],\n",
    "        [4, 5, 6],\n",
    "        [7],\n",
    "        [],  # Subproblema 8 no tiene un nodo que lo pueda resolver\n",
    "        [9],\n",
    "        [1, 2, 3, 4, 5, 6, 7, 8, 9, 10]]\n",
    "\n",
    "# Solo tenemos 1 bloque de tiempo para resolver 3 subproblemas => Insatisfactible\n",
    "P4 = [1, 2, 3]\n",
    "N4 = [1]\n",
    "N_p4 = [[1],\n",
    "        [1],\n",
    "        [1]]\n",
    "R4 = [1, 2, 3]\n",
    "R_p4 = [[1],\n",
    "        [2],\n",
    "        [3]]\n",
    "t_total4 = 300\n",
    "\n",
    "# generarModelo(P1, N_p3, R_p1, R1, t_init1, t_final1, t_total1, t1)\n",
    "# generarModelo(P3, N_p4, R_p4, R4, t_init1, t_final1, t_total4, t1)"
   ],
   "metadata": {
    "colab": {
     "base_uri": "https://localhost:8080/"
    },
    "id": "9c_B6Xuqxbgq",
    "outputId": "324c8192-9404-4db8-ec44-9614c07b05ea",
    "pycharm": {
     "name": "#%%\n"
    }
   },
   "execution_count": null,
   "outputs": [
    {
     "output_type": "stream",
     "name": "stdout",
     "text": [
      "[[1], [1], [1]]\n",
      "diccionario para los nodos: {1: (1, 1, 'n'), 2: (1, 2, 'n'), 3: (1, 3, 'n'), 4: (2, 1, 'n'), 5: (2, 2, 'n'), 6: (2, 3, 'n'), 7: (3, 1, 'n'), 8: (3, 2, 'n'), 9: (3, 3, 'n'), 10: (4, 4, 'n'), 11: (4, 5, 'n'), 12: (4, 6, 'n'), 13: (5, 4, 'n'), 14: (5, 5, 'n'), 15: (5, 6, 'n'), 16: (6, 4, 'n'), 17: (6, 5, 'n'), 18: (6, 6, 'n'), 19: (7, 7, 'n'), 20: (8, 7, 'n'), 21: (9, 9, 'n'), 22: (10, 1, 'n'), 23: (10, 2, 'n'), 24: (10, 3, 'n'), 25: (10, 4, 'n'), 26: (10, 5, 'n'), 27: (10, 6, 'n'), 28: (10, 7, 'n'), 29: (10, 8, 'n'), 30: (10, 9, 'n'), 31: (10, 10, 'n'), 32: (1, 1, 'b'), 33: (1, 2, 'b'), 34: (1, 3, 'b'), 35: (1, 4, 'b'), 36: (1, 5, 'b'), 37: (1, 6, 'b'), 38: (1, 7, 'b'), 39: (1, 8, 'b'), 40: (1, 9, 'b'), 41: (1, 10, 'b'), 42: (2, 1, 'b'), 43: (2, 2, 'b'), 44: (2, 3, 'b'), 45: (2, 4, 'b'), 46: (2, 5, 'b'), 47: (2, 6, 'b'), 48: (2, 7, 'b'), 49: (2, 8, 'b'), 50: (2, 9, 'b'), 51: (2, 10, 'b'), 52: (3, 1, 'b'), 53: (3, 2, 'b'), 54: (3, 3, 'b'), 55: (3, 4, 'b'), 56: (3, 5, 'b'), 57: (3, 6, 'b'), 58: (3, 7, 'b'), 59: (3, 8, 'b'), 60: (3, 9, 'b'), 61: (3, 10, 'b'), 62: (4, 1, 'b'), 63: (4, 2, 'b'), 64: (4, 3, 'b'), 65: (4, 4, 'b'), 66: (4, 5, 'b'), 67: (4, 6, 'b'), 68: (4, 7, 'b'), 69: (4, 8, 'b'), 70: (4, 9, 'b'), 71: (4, 10, 'b'), 72: (5, 1, 'b'), 73: (5, 2, 'b'), 74: (5, 3, 'b'), 75: (5, 4, 'b'), 76: (5, 5, 'b'), 77: (5, 6, 'b'), 78: (5, 7, 'b'), 79: (5, 8, 'b'), 80: (5, 9, 'b'), 81: (5, 10, 'b'), 82: (6, 1, 'b'), 83: (6, 2, 'b'), 84: (6, 3, 'b'), 85: (6, 4, 'b'), 86: (6, 5, 'b'), 87: (6, 6, 'b'), 88: (6, 7, 'b'), 89: (6, 8, 'b'), 90: (6, 9, 'b'), 91: (6, 10, 'b'), 92: (7, 1, 'b'), 93: (7, 2, 'b'), 94: (7, 3, 'b'), 95: (7, 4, 'b'), 96: (7, 5, 'b'), 97: (7, 6, 'b'), 98: (7, 7, 'b'), 99: (7, 8, 'b'), 100: (7, 9, 'b'), 101: (7, 10, 'b'), 102: (8, 1, 'b'), 103: (8, 2, 'b'), 104: (8, 3, 'b'), 105: (8, 4, 'b'), 106: (8, 5, 'b'), 107: (8, 6, 'b'), 108: (8, 7, 'b'), 109: (8, 8, 'b'), 110: (8, 9, 'b'), 111: (8, 10, 'b'), 112: (9, 1, 'b'), 113: (9, 2, 'b'), 114: (9, 3, 'b'), 115: (9, 4, 'b'), 116: (9, 5, 'b'), 117: (9, 6, 'b'), 118: (9, 7, 'b'), 119: (9, 8, 'b'), 120: (9, 9, 'b'), 121: (9, 10, 'b'), 122: (10, 1, 'b'), 123: (10, 2, 'b'), 124: (10, 3, 'b'), 125: (10, 4, 'b'), 126: (10, 5, 'b'), 127: (10, 6, 'b'), 128: (10, 7, 'b'), 129: (10, 8, 'b'), 130: (10, 9, 'b'), 131: (10, 10, 'b')}\n",
      "La formula definida es satisfacible? True\n",
      "La asignacion de subproblemas debe ser la siguiente: \n",
      "el subproblema 1 debe realizarse en el nodo 1\n",
      "el subproblema 2 debe realizarse en el nodo 3\n",
      "el subproblema 3 debe realizarse en el nodo 3\n",
      "el subproblema 4 debe realizarse en el nodo 6\n",
      "el subproblema 5 debe realizarse en el nodo 4\n",
      "el subproblema 6 debe realizarse en el nodo 6\n",
      "el subproblema 7 debe realizarse en el nodo 7\n",
      "el subproblema 8 debe realizarse en el nodo 7\n",
      "el subproblema 9 debe realizarse en el nodo 9\n",
      "el subproblema 10 debe realizarse en el nodo 9\n",
      "el subproblema 1 debe realizarse en el bloque 3\n",
      "el subproblema 2 debe realizarse en el bloque 2\n",
      "el subproblema 3 debe realizarse en el bloque 10\n",
      "el subproblema 4 debe realizarse en el bloque 4\n",
      "el subproblema 5 debe realizarse en el bloque 3\n",
      "el subproblema 6 debe realizarse en el bloque 2\n",
      "el subproblema 7 debe realizarse en el bloque 3\n",
      "el subproblema 8 debe realizarse en el bloque 2\n",
      "el subproblema 9 debe realizarse en el bloque 2\n",
      "el subproblema 10 debe realizarse en el bloque 1\n"
     ]
    }
   ]
  },
  {
   "cell_type": "code",
   "source": [],
   "metadata": {
    "id": "gxw3UipIgqGR",
    "pycharm": {
     "name": "#%%\n"
    }
   },
   "execution_count": null,
   "outputs": []
  },
  {
   "cell_type": "code",
   "source": [],
   "metadata": {
    "id": "np1fFuMgNLYG",
    "pycharm": {
     "name": "#%%\n"
    }
   },
   "execution_count": null,
   "outputs": []
  },
  {
   "cell_type": "code",
   "source": [],
   "metadata": {
    "id": "Zin-1DMVTu5l",
    "colab": {
     "base_uri": "https://localhost:8080/"
    },
    "outputId": "a8e5ee98-6f1d-4c47-87dd-6004d70f3b04",
    "pycharm": {
     "name": "#%%\n"
    }
   },
   "execution_count": null,
   "outputs": [
    {
     "output_type": "stream",
     "name": "stdout",
     "text": [
      "La formula definida es satisfacible? True\n",
      "Qué valores de verdad deben tener cada uno de los literales para satisfacerlo? [1, -2, -3, -4, -5, -6]\n"
     ]
    }
   ]
  },
  {
   "cell_type": "markdown",
   "metadata": {
    "id": "f5dCdwEHVQBl",
    "pycharm": {
     "name": "#%% md\n"
    }
   },
   "source": [
    "Notar que nuestro solver (s) por debajo junta las clausulas con un and, la celda anterior es equivalente a la formula que escribimos más arriba.\n",
    "\n",
    "Ahora, si quiero saber si la formula es satisfacible, le preguntamos al solver:\n"
   ]
  },
  {
   "cell_type": "code",
   "metadata": {
    "id": "n4ti_2rXVkaa",
    "pycharm": {
     "name": "#%%\n"
    }
   },
   "source": [],
   "execution_count": null,
   "outputs": []
  },
  {
   "cell_type": "markdown",
   "metadata": {
    "id": "7NuwoF1GWefk",
    "pycharm": {
     "name": "#%% md\n"
    }
   },
   "source": [
    "Si reemplazamos segun indica el solver, tenemos: $$\\{x_1 = T, x_2 = F, x_3 = T, x_4 = F\\}$$\n",
    "Entonces:\n",
    "$$(T \\lor F) \\land (T \\lor F \\lor \\neg T) \\land \\neg F$$\n",
    "$$(T \\lor F) \\land (T \\lor F \\lor F) \\land T$$\n",
    "$$T \\land T \\land T$$\n",
    "$$T$$\n",
    "\n",
    "Notar que esta valuación obtenida no necesariamente es unica, yo ahora ejecute la consulta y obtuve estos valores, pero quiza si vuelven a ejecutarlo tiene otra respuesta igual de válida :D\n",
    "\n",
    "## Qué pasa si tengo una porrada de variables que no necesariamente son de la forma $x_i$\n",
    "\n",
    "No pasa nada, si tienen cosas de la forma $x_{i,j,k,l}$ (por ejemplo) decidan la forma de numerarlas con un id, lo importante es que ustedes tengan muy claro como volver del id al literal original.\n",
    "\n",
    "# (!) Importante\n",
    "Pueden hacer una copia de este colab en sus drives y usarlo para correr sus códigos. A veces las instalaciones en sus computadores puede fallar porque tienen muchas librerias metidas y colisionan entre si.\n",
    "Como dato, es buena practica hacer instalaciones higienicas para sus proyectos en python, para ello existe por ejemplo [venv](https://help.dreamhost.com/hc/es/articles/115000695551-Instalar-y-usar-virtualenv-con-Python-3), algo que podemos conversar otro día."
   ]
  },
  {
   "cell_type": "code",
   "source": [],
   "metadata": {
    "id": "NMmQb_FgPweK",
    "pycharm": {
     "name": "#%%\n"
    }
   },
   "execution_count": null,
   "outputs": []
  }
 ]
}